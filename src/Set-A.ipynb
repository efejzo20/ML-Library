{
 "cells": [
  {
   "cell_type": "markdown",
   "metadata": {
    "collapsed": true,
    "pycharm": {
     "name": "#%%\n"
    }
   },
   "source": [
    "# Hackathon Set A\n",
    "\n",
    "## Machine Learning Lab, SS 24, Uni Passau\n",
    "\n",
    "### Rules:\n",
    "    \n",
    "   1. You have time from 1 pm until 5 pm to complete the exam. \n",
    "   2. Submissions must be pushed to your gitlab in a folder named `Hackathon`. Submissions are allowed until 5 pm.\n",
    "   3. Run your solutions in lines created under the individual questionnaire.\n",
    "   4. For model implementations you are permitted to use only your library in its state by the Final Deadline.\n",
    "   \n",
    "   \n",
    "   \n",
    "   \n",
    "\n"
   ]
  },
  {
   "cell_type": "markdown",
   "metadata": {},
   "source": [
    "### Task 1: Prepare your data [10 Points]\n",
    "\n",
    "   1. Load/Download the datasets and read them. \n",
    "   2. Analyse the data shape, targets and data characteristics. \n",
    "   3. Apply any relevant data cleaning, data filling, and if required convert to numpy vectors. \n",
    "   4. Split the datasets into `train`, `valid` and `test` folds. Use one fixed train-validation-test split consistently for all experiments.\n",
    "   5. Apply any relevant data normalisation. "
   ]
  },
  {
   "cell_type": "markdown",
   "metadata": {},
   "source": [
    "Dataset 1: [CLASSIFICATION] Iris Dataset: https://archive.ics.uci.edu/dataset/53/iris\n",
    "\n",
    "Can be Downloaded directly using curl or via sklearn as shown below:\n",
    "```python\n",
    "from sklearn.datasets import load_iris\n",
    "import numpy as np\n",
    "\n",
    "iris = load_iris()\n",
    "X = iris.data\n",
    "y = iris.target\n",
    "\n",
    "```\n",
    "Dataset 2: [REGRESION] Auto MPG Dataset: https://archive.ics.uci.edu/dataset/9/auto+mpg\n",
    "```python\n",
    "import pandas as pd\n",
    "import numpy as np\n",
    "\n",
    "url = \"https://archive.ics.uci.edu/ml/machine-learning-databases/auto-mpg/auto-mpg.data\"\n",
    "column_names = [\"mpg\", \"cylinders\", \"displacement\", \"horsepower\", \"weight\", \"acceleration\", \"model_year\", \"origin\", \"car_name\"]\n",
    "auto_mpg = pd.read_csv(url, names=column_names, delim_whitespace=True, na_values=\"?\")\n",
    "auto_mpg = auto_mpg.dropna()  # Remove rows with missing values\n",
    "\n",
    "X = auto_mpg.iloc[:, 1:-1].values  # Exclude mpg (target) and car_name (non-numeric)\n",
    "y = auto_mpg[\"mpg\"].values\n",
    "```\n",
    "\n",
    "Dataset 3: [CLUSTERING] Wine Dataset: https://archive.ics.uci.edu/dataset/109/wine\n",
    "```python\n",
    "from sklearn.datasets import load_wine\n",
    "\n",
    "wine = load_wine()\n",
    "X = wine.data\n",
    "```\n",
    "\n"
   ]
  },
  {
   "cell_type": "markdown",
   "metadata": {},
   "source": [
    "### Iris Dataset"
   ]
  },
  {
   "cell_type": "code",
   "execution_count": 18,
   "metadata": {},
   "outputs": [],
   "source": [
    "from sklearn.datasets import load_iris\n",
    "import numpy as np\n",
    "import pandas as pd\n",
    "\n",
    "iris = load_iris()\n",
    "X_iris = iris.data\n",
    "y_iris = iris.target\n",
    "column_names = iris.feature_names"
   ]
  },
  {
   "cell_type": "code",
   "execution_count": 19,
   "metadata": {},
   "outputs": [],
   "source": [
    "# Convert to pandas DataFrame for easier inspection\n",
    "iris_df = pd.DataFrame(data=X_iris, columns=column_names)\n",
    "iris_df['target'] = y_iris"
   ]
  },
  {
   "cell_type": "code",
   "execution_count": 20,
   "metadata": {},
   "outputs": [
    {
     "data": {
      "text/plain": [
       "(150, 5)"
      ]
     },
     "execution_count": 20,
     "metadata": {},
     "output_type": "execute_result"
    }
   ],
   "source": [
    "iris_df.shape"
   ]
  },
  {
   "cell_type": "code",
   "execution_count": 21,
   "metadata": {},
   "outputs": [
    {
     "data": {
      "text/plain": [
       "sepal length (cm)    0\n",
       "sepal width (cm)     0\n",
       "petal length (cm)    0\n",
       "petal width (cm)     0\n",
       "target               0\n",
       "dtype: int64"
      ]
     },
     "execution_count": 21,
     "metadata": {},
     "output_type": "execute_result"
    }
   ],
   "source": [
    "iris_df.isnull().sum()"
   ]
  },
  {
   "cell_type": "code",
   "execution_count": 22,
   "metadata": {},
   "outputs": [
    {
     "data": {
      "text/html": [
       "<div>\n",
       "<style scoped>\n",
       "    .dataframe tbody tr th:only-of-type {\n",
       "        vertical-align: middle;\n",
       "    }\n",
       "\n",
       "    .dataframe tbody tr th {\n",
       "        vertical-align: top;\n",
       "    }\n",
       "\n",
       "    .dataframe thead th {\n",
       "        text-align: right;\n",
       "    }\n",
       "</style>\n",
       "<table border=\"1\" class=\"dataframe\">\n",
       "  <thead>\n",
       "    <tr style=\"text-align: right;\">\n",
       "      <th></th>\n",
       "      <th>sepal length (cm)</th>\n",
       "      <th>sepal width (cm)</th>\n",
       "      <th>petal length (cm)</th>\n",
       "      <th>petal width (cm)</th>\n",
       "      <th>target</th>\n",
       "    </tr>\n",
       "  </thead>\n",
       "  <tbody>\n",
       "    <tr>\n",
       "      <th>count</th>\n",
       "      <td>150.000000</td>\n",
       "      <td>150.000000</td>\n",
       "      <td>150.000000</td>\n",
       "      <td>150.000000</td>\n",
       "      <td>150.000000</td>\n",
       "    </tr>\n",
       "    <tr>\n",
       "      <th>mean</th>\n",
       "      <td>5.843333</td>\n",
       "      <td>3.057333</td>\n",
       "      <td>3.758000</td>\n",
       "      <td>1.199333</td>\n",
       "      <td>1.000000</td>\n",
       "    </tr>\n",
       "    <tr>\n",
       "      <th>std</th>\n",
       "      <td>0.828066</td>\n",
       "      <td>0.435866</td>\n",
       "      <td>1.765298</td>\n",
       "      <td>0.762238</td>\n",
       "      <td>0.819232</td>\n",
       "    </tr>\n",
       "    <tr>\n",
       "      <th>min</th>\n",
       "      <td>4.300000</td>\n",
       "      <td>2.000000</td>\n",
       "      <td>1.000000</td>\n",
       "      <td>0.100000</td>\n",
       "      <td>0.000000</td>\n",
       "    </tr>\n",
       "    <tr>\n",
       "      <th>25%</th>\n",
       "      <td>5.100000</td>\n",
       "      <td>2.800000</td>\n",
       "      <td>1.600000</td>\n",
       "      <td>0.300000</td>\n",
       "      <td>0.000000</td>\n",
       "    </tr>\n",
       "    <tr>\n",
       "      <th>50%</th>\n",
       "      <td>5.800000</td>\n",
       "      <td>3.000000</td>\n",
       "      <td>4.350000</td>\n",
       "      <td>1.300000</td>\n",
       "      <td>1.000000</td>\n",
       "    </tr>\n",
       "    <tr>\n",
       "      <th>75%</th>\n",
       "      <td>6.400000</td>\n",
       "      <td>3.300000</td>\n",
       "      <td>5.100000</td>\n",
       "      <td>1.800000</td>\n",
       "      <td>2.000000</td>\n",
       "    </tr>\n",
       "    <tr>\n",
       "      <th>max</th>\n",
       "      <td>7.900000</td>\n",
       "      <td>4.400000</td>\n",
       "      <td>6.900000</td>\n",
       "      <td>2.500000</td>\n",
       "      <td>2.000000</td>\n",
       "    </tr>\n",
       "  </tbody>\n",
       "</table>\n",
       "</div>"
      ],
      "text/plain": [
       "       sepal length (cm)  sepal width (cm)  petal length (cm)  \\\n",
       "count         150.000000        150.000000         150.000000   \n",
       "mean            5.843333          3.057333           3.758000   \n",
       "std             0.828066          0.435866           1.765298   \n",
       "min             4.300000          2.000000           1.000000   \n",
       "25%             5.100000          2.800000           1.600000   \n",
       "50%             5.800000          3.000000           4.350000   \n",
       "75%             6.400000          3.300000           5.100000   \n",
       "max             7.900000          4.400000           6.900000   \n",
       "\n",
       "       petal width (cm)      target  \n",
       "count        150.000000  150.000000  \n",
       "mean           1.199333    1.000000  \n",
       "std            0.762238    0.819232  \n",
       "min            0.100000    0.000000  \n",
       "25%            0.300000    0.000000  \n",
       "50%            1.300000    1.000000  \n",
       "75%            1.800000    2.000000  \n",
       "max            2.500000    2.000000  "
      ]
     },
     "execution_count": 22,
     "metadata": {},
     "output_type": "execute_result"
    }
   ],
   "source": [
    "iris_df.describe()"
   ]
  },
  {
   "cell_type": "code",
   "execution_count": 23,
   "metadata": {},
   "outputs": [
    {
     "data": {
      "text/plain": [
       "target\n",
       "0    50\n",
       "1    50\n",
       "2    50\n",
       "Name: count, dtype: int64"
      ]
     },
     "execution_count": 23,
     "metadata": {},
     "output_type": "execute_result"
    }
   ],
   "source": [
    "# Analyze the target distribution\n",
    "iris_df['target'].value_counts()"
   ]
  },
  {
   "cell_type": "code",
   "execution_count": 24,
   "metadata": {},
   "outputs": [],
   "source": [
    "from sklearn.model_selection import train_test_split\n",
    "\n",
    "X_iris_train, X_iris_temp, y_iris_train, y_iris_temp = train_test_split(X_iris, y_iris, test_size=0.4, random_state=42)\n",
    "X_iris_valid, X_iris_test, y_iris_valid, y_iris_test = train_test_split(X_iris_temp, y_iris_temp, test_size=0.5, random_state=42)"
   ]
  },
  {
   "cell_type": "code",
   "execution_count": 25,
   "metadata": {},
   "outputs": [],
   "source": [
    "from sklearn.preprocessing import StandardScaler\n",
    "scaler = StandardScaler()\n",
    "X_train = scaler.fit_transform(X_iris_train)\n",
    "X_iris_valid = scaler.transform(X_iris_valid)\n",
    "X_iris_test = scaler.transform(X_iris_test)"
   ]
  },
  {
   "cell_type": "code",
   "execution_count": 26,
   "metadata": {},
   "outputs": [
    {
     "name": "stdout",
     "output_type": "stream",
     "text": [
      "Training set shape: (90, 4) (90,)\n",
      "Validation set shape: (30, 4) (30,)\n",
      "Test set shape: (30, 4) (30,)\n"
     ]
    }
   ],
   "source": [
    "print(\"Training set shape:\", X_iris_train.shape, y_iris_train.shape)\n",
    "print(\"Validation set shape:\", X_iris_valid.shape, y_iris_valid.shape)\n",
    "print(\"Test set shape:\", X_iris_test.shape, y_iris_test.shape)"
   ]
  },
  {
   "cell_type": "markdown",
   "metadata": {},
   "source": [
    "### Auto MPG dataset"
   ]
  },
  {
   "cell_type": "code",
   "execution_count": 27,
   "metadata": {},
   "outputs": [],
   "source": [
    "import pandas as pd\n",
    "import numpy as np\n",
    "\n",
    "url = \"https://archive.ics.uci.edu/ml/machine-learning-databases/auto-mpg/auto-mpg.data\"\n",
    "column_names = [\"mpg\", \"cylinders\", \"displacement\", \"horsepower\", \"weight\", \"acceleration\", \"model_year\", \"origin\", \"car_name\"]\n",
    "auto_mpg = pd.read_csv(url, names=column_names, delim_whitespace=True, na_values=\"?\")\n",
    "auto_mpg = auto_mpg.dropna()  # Remove rows with missing values\n",
    "\n",
    "X = auto_mpg.iloc[:, 1:-1].values  # Exclude mpg (target) and car_name (non-numeric)\n",
    "y = auto_mpg[\"mpg\"].values"
   ]
  },
  {
   "cell_type": "code",
   "execution_count": 28,
   "metadata": {},
   "outputs": [],
   "source": [
    "auto_mpg = pd.read_csv(url, names=column_names, delim_whitespace=True, na_values=\"?\")"
   ]
  },
  {
   "cell_type": "code",
   "execution_count": 29,
   "metadata": {},
   "outputs": [
    {
     "data": {
      "text/plain": [
       "(398, 9)"
      ]
     },
     "execution_count": 29,
     "metadata": {},
     "output_type": "execute_result"
    }
   ],
   "source": [
    "auto_mpg.shape"
   ]
  },
  {
   "cell_type": "code",
   "execution_count": 30,
   "metadata": {},
   "outputs": [
    {
     "data": {
      "text/plain": [
       "mpg             float64\n",
       "cylinders         int64\n",
       "displacement    float64\n",
       "horsepower      float64\n",
       "weight          float64\n",
       "acceleration    float64\n",
       "model_year        int64\n",
       "origin            int64\n",
       "car_name         object\n",
       "dtype: object"
      ]
     },
     "execution_count": 30,
     "metadata": {},
     "output_type": "execute_result"
    }
   ],
   "source": [
    "auto_mpg.dtypes"
   ]
  },
  {
   "cell_type": "code",
   "execution_count": 31,
   "metadata": {},
   "outputs": [
    {
     "data": {
      "text/html": [
       "<div>\n",
       "<style scoped>\n",
       "    .dataframe tbody tr th:only-of-type {\n",
       "        vertical-align: middle;\n",
       "    }\n",
       "\n",
       "    .dataframe tbody tr th {\n",
       "        vertical-align: top;\n",
       "    }\n",
       "\n",
       "    .dataframe thead th {\n",
       "        text-align: right;\n",
       "    }\n",
       "</style>\n",
       "<table border=\"1\" class=\"dataframe\">\n",
       "  <thead>\n",
       "    <tr style=\"text-align: right;\">\n",
       "      <th></th>\n",
       "      <th>mpg</th>\n",
       "      <th>cylinders</th>\n",
       "      <th>displacement</th>\n",
       "      <th>horsepower</th>\n",
       "      <th>weight</th>\n",
       "      <th>acceleration</th>\n",
       "      <th>model_year</th>\n",
       "      <th>origin</th>\n",
       "      <th>car_name</th>\n",
       "    </tr>\n",
       "  </thead>\n",
       "  <tbody>\n",
       "    <tr>\n",
       "      <th>0</th>\n",
       "      <td>18.0</td>\n",
       "      <td>8</td>\n",
       "      <td>307.0</td>\n",
       "      <td>130.0</td>\n",
       "      <td>3504.0</td>\n",
       "      <td>12.0</td>\n",
       "      <td>70</td>\n",
       "      <td>1</td>\n",
       "      <td>chevrolet chevelle malibu</td>\n",
       "    </tr>\n",
       "    <tr>\n",
       "      <th>1</th>\n",
       "      <td>15.0</td>\n",
       "      <td>8</td>\n",
       "      <td>350.0</td>\n",
       "      <td>165.0</td>\n",
       "      <td>3693.0</td>\n",
       "      <td>11.5</td>\n",
       "      <td>70</td>\n",
       "      <td>1</td>\n",
       "      <td>buick skylark 320</td>\n",
       "    </tr>\n",
       "    <tr>\n",
       "      <th>2</th>\n",
       "      <td>18.0</td>\n",
       "      <td>8</td>\n",
       "      <td>318.0</td>\n",
       "      <td>150.0</td>\n",
       "      <td>3436.0</td>\n",
       "      <td>11.0</td>\n",
       "      <td>70</td>\n",
       "      <td>1</td>\n",
       "      <td>plymouth satellite</td>\n",
       "    </tr>\n",
       "    <tr>\n",
       "      <th>3</th>\n",
       "      <td>16.0</td>\n",
       "      <td>8</td>\n",
       "      <td>304.0</td>\n",
       "      <td>150.0</td>\n",
       "      <td>3433.0</td>\n",
       "      <td>12.0</td>\n",
       "      <td>70</td>\n",
       "      <td>1</td>\n",
       "      <td>amc rebel sst</td>\n",
       "    </tr>\n",
       "    <tr>\n",
       "      <th>4</th>\n",
       "      <td>17.0</td>\n",
       "      <td>8</td>\n",
       "      <td>302.0</td>\n",
       "      <td>140.0</td>\n",
       "      <td>3449.0</td>\n",
       "      <td>10.5</td>\n",
       "      <td>70</td>\n",
       "      <td>1</td>\n",
       "      <td>ford torino</td>\n",
       "    </tr>\n",
       "  </tbody>\n",
       "</table>\n",
       "</div>"
      ],
      "text/plain": [
       "    mpg  cylinders  displacement  horsepower  weight  acceleration  \\\n",
       "0  18.0          8         307.0       130.0  3504.0          12.0   \n",
       "1  15.0          8         350.0       165.0  3693.0          11.5   \n",
       "2  18.0          8         318.0       150.0  3436.0          11.0   \n",
       "3  16.0          8         304.0       150.0  3433.0          12.0   \n",
       "4  17.0          8         302.0       140.0  3449.0          10.5   \n",
       "\n",
       "   model_year  origin                   car_name  \n",
       "0          70       1  chevrolet chevelle malibu  \n",
       "1          70       1          buick skylark 320  \n",
       "2          70       1         plymouth satellite  \n",
       "3          70       1              amc rebel sst  \n",
       "4          70       1                ford torino  "
      ]
     },
     "execution_count": 31,
     "metadata": {},
     "output_type": "execute_result"
    }
   ],
   "source": [
    "auto_mpg.head()"
   ]
  },
  {
   "cell_type": "code",
   "execution_count": 32,
   "metadata": {},
   "outputs": [
    {
     "data": {
      "text/html": [
       "<div>\n",
       "<style scoped>\n",
       "    .dataframe tbody tr th:only-of-type {\n",
       "        vertical-align: middle;\n",
       "    }\n",
       "\n",
       "    .dataframe tbody tr th {\n",
       "        vertical-align: top;\n",
       "    }\n",
       "\n",
       "    .dataframe thead th {\n",
       "        text-align: right;\n",
       "    }\n",
       "</style>\n",
       "<table border=\"1\" class=\"dataframe\">\n",
       "  <thead>\n",
       "    <tr style=\"text-align: right;\">\n",
       "      <th></th>\n",
       "      <th>mpg</th>\n",
       "      <th>cylinders</th>\n",
       "      <th>displacement</th>\n",
       "      <th>horsepower</th>\n",
       "      <th>weight</th>\n",
       "      <th>acceleration</th>\n",
       "      <th>model_year</th>\n",
       "      <th>origin</th>\n",
       "    </tr>\n",
       "  </thead>\n",
       "  <tbody>\n",
       "    <tr>\n",
       "      <th>count</th>\n",
       "      <td>398.000000</td>\n",
       "      <td>398.000000</td>\n",
       "      <td>398.000000</td>\n",
       "      <td>392.000000</td>\n",
       "      <td>398.000000</td>\n",
       "      <td>398.000000</td>\n",
       "      <td>398.000000</td>\n",
       "      <td>398.000000</td>\n",
       "    </tr>\n",
       "    <tr>\n",
       "      <th>mean</th>\n",
       "      <td>23.514573</td>\n",
       "      <td>5.454774</td>\n",
       "      <td>193.425879</td>\n",
       "      <td>104.469388</td>\n",
       "      <td>2970.424623</td>\n",
       "      <td>15.568090</td>\n",
       "      <td>76.010050</td>\n",
       "      <td>1.572864</td>\n",
       "    </tr>\n",
       "    <tr>\n",
       "      <th>std</th>\n",
       "      <td>7.815984</td>\n",
       "      <td>1.701004</td>\n",
       "      <td>104.269838</td>\n",
       "      <td>38.491160</td>\n",
       "      <td>846.841774</td>\n",
       "      <td>2.757689</td>\n",
       "      <td>3.697627</td>\n",
       "      <td>0.802055</td>\n",
       "    </tr>\n",
       "    <tr>\n",
       "      <th>min</th>\n",
       "      <td>9.000000</td>\n",
       "      <td>3.000000</td>\n",
       "      <td>68.000000</td>\n",
       "      <td>46.000000</td>\n",
       "      <td>1613.000000</td>\n",
       "      <td>8.000000</td>\n",
       "      <td>70.000000</td>\n",
       "      <td>1.000000</td>\n",
       "    </tr>\n",
       "    <tr>\n",
       "      <th>25%</th>\n",
       "      <td>17.500000</td>\n",
       "      <td>4.000000</td>\n",
       "      <td>104.250000</td>\n",
       "      <td>75.000000</td>\n",
       "      <td>2223.750000</td>\n",
       "      <td>13.825000</td>\n",
       "      <td>73.000000</td>\n",
       "      <td>1.000000</td>\n",
       "    </tr>\n",
       "    <tr>\n",
       "      <th>50%</th>\n",
       "      <td>23.000000</td>\n",
       "      <td>4.000000</td>\n",
       "      <td>148.500000</td>\n",
       "      <td>93.500000</td>\n",
       "      <td>2803.500000</td>\n",
       "      <td>15.500000</td>\n",
       "      <td>76.000000</td>\n",
       "      <td>1.000000</td>\n",
       "    </tr>\n",
       "    <tr>\n",
       "      <th>75%</th>\n",
       "      <td>29.000000</td>\n",
       "      <td>8.000000</td>\n",
       "      <td>262.000000</td>\n",
       "      <td>126.000000</td>\n",
       "      <td>3608.000000</td>\n",
       "      <td>17.175000</td>\n",
       "      <td>79.000000</td>\n",
       "      <td>2.000000</td>\n",
       "    </tr>\n",
       "    <tr>\n",
       "      <th>max</th>\n",
       "      <td>46.600000</td>\n",
       "      <td>8.000000</td>\n",
       "      <td>455.000000</td>\n",
       "      <td>230.000000</td>\n",
       "      <td>5140.000000</td>\n",
       "      <td>24.800000</td>\n",
       "      <td>82.000000</td>\n",
       "      <td>3.000000</td>\n",
       "    </tr>\n",
       "  </tbody>\n",
       "</table>\n",
       "</div>"
      ],
      "text/plain": [
       "              mpg   cylinders  displacement  horsepower       weight  \\\n",
       "count  398.000000  398.000000    398.000000  392.000000   398.000000   \n",
       "mean    23.514573    5.454774    193.425879  104.469388  2970.424623   \n",
       "std      7.815984    1.701004    104.269838   38.491160   846.841774   \n",
       "min      9.000000    3.000000     68.000000   46.000000  1613.000000   \n",
       "25%     17.500000    4.000000    104.250000   75.000000  2223.750000   \n",
       "50%     23.000000    4.000000    148.500000   93.500000  2803.500000   \n",
       "75%     29.000000    8.000000    262.000000  126.000000  3608.000000   \n",
       "max     46.600000    8.000000    455.000000  230.000000  5140.000000   \n",
       "\n",
       "       acceleration  model_year      origin  \n",
       "count    398.000000  398.000000  398.000000  \n",
       "mean      15.568090   76.010050    1.572864  \n",
       "std        2.757689    3.697627    0.802055  \n",
       "min        8.000000   70.000000    1.000000  \n",
       "25%       13.825000   73.000000    1.000000  \n",
       "50%       15.500000   76.000000    1.000000  \n",
       "75%       17.175000   79.000000    2.000000  \n",
       "max       24.800000   82.000000    3.000000  "
      ]
     },
     "execution_count": 32,
     "metadata": {},
     "output_type": "execute_result"
    }
   ],
   "source": [
    "auto_mpg.describe()"
   ]
  },
  {
   "cell_type": "code",
   "execution_count": 33,
   "metadata": {},
   "outputs": [
    {
     "data": {
      "text/plain": [
       "mpg             0\n",
       "cylinders       0\n",
       "displacement    0\n",
       "horsepower      6\n",
       "weight          0\n",
       "acceleration    0\n",
       "model_year      0\n",
       "origin          0\n",
       "car_name        0\n",
       "dtype: int64"
      ]
     },
     "execution_count": 33,
     "metadata": {},
     "output_type": "execute_result"
    }
   ],
   "source": [
    "auto_mpg.isnull().sum()"
   ]
  },
  {
   "cell_type": "code",
   "execution_count": 34,
   "metadata": {},
   "outputs": [],
   "source": [
    "auto_mpg = auto_mpg.dropna() "
   ]
  },
  {
   "cell_type": "code",
   "execution_count": 35,
   "metadata": {},
   "outputs": [],
   "source": [
    "X_auto_mpg = auto_mpg.iloc[:, 1:-1].values \n",
    "y_auto_mpg = auto_mpg[\"mpg\"].values"
   ]
  },
  {
   "cell_type": "code",
   "execution_count": 36,
   "metadata": {},
   "outputs": [],
   "source": [
    "from StandardScaler.StandardScaler import StandardScaler\n",
    "scaler = StandardScaler()\n",
    "X_auto_mpg = scaler.fit_transform(X)\n",
    "y_auto_mpg = scaler.fit_transform(y)\n"
   ]
  },
  {
   "cell_type": "code",
   "execution_count": 37,
   "metadata": {},
   "outputs": [
    {
     "name": "stdout",
     "output_type": "stream",
     "text": [
      "Training set shape: (235, 7) (235,)\n",
      "Validation set shape: (78, 7) (78,)\n",
      "Test set shape: (79, 7) (79,)\n"
     ]
    }
   ],
   "source": [
    "# Split the datasets into train, validation, and test sets\n",
    "X_auto_mpg_train, X_auto_mpg_temp, y_auto_mpg_train, y_auto_mpg_temp = train_test_split(X_auto_mpg, y_auto_mpg, test_size=0.4, random_state=42)\n",
    "X_auto_mpg_valid, X_auto_mpg_test, y_auto_mpg_valid, y_auto_mpg_test = train_test_split(X_auto_mpg_temp, y_auto_mpg_temp, test_size=0.5, random_state=42)\n",
    "\n",
    "print(\"Training set shape:\", X_auto_mpg_train.shape, y_auto_mpg_train.shape)\n",
    "print(\"Validation set shape:\", X_auto_mpg_valid.shape, y_auto_mpg_valid.shape)\n",
    "print(\"Test set shape:\", X_auto_mpg_test.shape, y_auto_mpg_test.shape)"
   ]
  },
  {
   "cell_type": "markdown",
   "metadata": {},
   "source": [
    "### Wine dataset"
   ]
  },
  {
   "cell_type": "code",
   "execution_count": 38,
   "metadata": {},
   "outputs": [],
   "source": [
    "from sklearn.datasets import load_wine\n",
    "\n",
    "wine = load_wine()\n",
    "X_wine = wine.data\n",
    "y_wine = wine.target\n",
    "column_names = wine.feature_names"
   ]
  },
  {
   "cell_type": "code",
   "execution_count": 39,
   "metadata": {},
   "outputs": [],
   "source": [
    "wine_df = pd.DataFrame(data=X_wine, columns=column_names)\n",
    "wine_df['target'] = y_wine"
   ]
  },
  {
   "cell_type": "code",
   "execution_count": 40,
   "metadata": {},
   "outputs": [
    {
     "data": {
      "text/plain": [
       "(178, 14)"
      ]
     },
     "execution_count": 40,
     "metadata": {},
     "output_type": "execute_result"
    }
   ],
   "source": [
    "wine_df.shape"
   ]
  },
  {
   "cell_type": "code",
   "execution_count": 41,
   "metadata": {},
   "outputs": [
    {
     "data": {
      "text/plain": [
       "alcohol                         float64\n",
       "malic_acid                      float64\n",
       "ash                             float64\n",
       "alcalinity_of_ash               float64\n",
       "magnesium                       float64\n",
       "total_phenols                   float64\n",
       "flavanoids                      float64\n",
       "nonflavanoid_phenols            float64\n",
       "proanthocyanins                 float64\n",
       "color_intensity                 float64\n",
       "hue                             float64\n",
       "od280/od315_of_diluted_wines    float64\n",
       "proline                         float64\n",
       "target                            int64\n",
       "dtype: object"
      ]
     },
     "execution_count": 41,
     "metadata": {},
     "output_type": "execute_result"
    }
   ],
   "source": [
    "wine_df.dtypes"
   ]
  },
  {
   "cell_type": "code",
   "execution_count": 42,
   "metadata": {},
   "outputs": [
    {
     "data": {
      "text/html": [
       "<div>\n",
       "<style scoped>\n",
       "    .dataframe tbody tr th:only-of-type {\n",
       "        vertical-align: middle;\n",
       "    }\n",
       "\n",
       "    .dataframe tbody tr th {\n",
       "        vertical-align: top;\n",
       "    }\n",
       "\n",
       "    .dataframe thead th {\n",
       "        text-align: right;\n",
       "    }\n",
       "</style>\n",
       "<table border=\"1\" class=\"dataframe\">\n",
       "  <thead>\n",
       "    <tr style=\"text-align: right;\">\n",
       "      <th></th>\n",
       "      <th>alcohol</th>\n",
       "      <th>malic_acid</th>\n",
       "      <th>ash</th>\n",
       "      <th>alcalinity_of_ash</th>\n",
       "      <th>magnesium</th>\n",
       "      <th>total_phenols</th>\n",
       "      <th>flavanoids</th>\n",
       "      <th>nonflavanoid_phenols</th>\n",
       "      <th>proanthocyanins</th>\n",
       "      <th>color_intensity</th>\n",
       "      <th>hue</th>\n",
       "      <th>od280/od315_of_diluted_wines</th>\n",
       "      <th>proline</th>\n",
       "      <th>target</th>\n",
       "    </tr>\n",
       "  </thead>\n",
       "  <tbody>\n",
       "    <tr>\n",
       "      <th>0</th>\n",
       "      <td>14.23</td>\n",
       "      <td>1.71</td>\n",
       "      <td>2.43</td>\n",
       "      <td>15.6</td>\n",
       "      <td>127.0</td>\n",
       "      <td>2.80</td>\n",
       "      <td>3.06</td>\n",
       "      <td>0.28</td>\n",
       "      <td>2.29</td>\n",
       "      <td>5.64</td>\n",
       "      <td>1.04</td>\n",
       "      <td>3.92</td>\n",
       "      <td>1065.0</td>\n",
       "      <td>0</td>\n",
       "    </tr>\n",
       "    <tr>\n",
       "      <th>1</th>\n",
       "      <td>13.20</td>\n",
       "      <td>1.78</td>\n",
       "      <td>2.14</td>\n",
       "      <td>11.2</td>\n",
       "      <td>100.0</td>\n",
       "      <td>2.65</td>\n",
       "      <td>2.76</td>\n",
       "      <td>0.26</td>\n",
       "      <td>1.28</td>\n",
       "      <td>4.38</td>\n",
       "      <td>1.05</td>\n",
       "      <td>3.40</td>\n",
       "      <td>1050.0</td>\n",
       "      <td>0</td>\n",
       "    </tr>\n",
       "    <tr>\n",
       "      <th>2</th>\n",
       "      <td>13.16</td>\n",
       "      <td>2.36</td>\n",
       "      <td>2.67</td>\n",
       "      <td>18.6</td>\n",
       "      <td>101.0</td>\n",
       "      <td>2.80</td>\n",
       "      <td>3.24</td>\n",
       "      <td>0.30</td>\n",
       "      <td>2.81</td>\n",
       "      <td>5.68</td>\n",
       "      <td>1.03</td>\n",
       "      <td>3.17</td>\n",
       "      <td>1185.0</td>\n",
       "      <td>0</td>\n",
       "    </tr>\n",
       "    <tr>\n",
       "      <th>3</th>\n",
       "      <td>14.37</td>\n",
       "      <td>1.95</td>\n",
       "      <td>2.50</td>\n",
       "      <td>16.8</td>\n",
       "      <td>113.0</td>\n",
       "      <td>3.85</td>\n",
       "      <td>3.49</td>\n",
       "      <td>0.24</td>\n",
       "      <td>2.18</td>\n",
       "      <td>7.80</td>\n",
       "      <td>0.86</td>\n",
       "      <td>3.45</td>\n",
       "      <td>1480.0</td>\n",
       "      <td>0</td>\n",
       "    </tr>\n",
       "    <tr>\n",
       "      <th>4</th>\n",
       "      <td>13.24</td>\n",
       "      <td>2.59</td>\n",
       "      <td>2.87</td>\n",
       "      <td>21.0</td>\n",
       "      <td>118.0</td>\n",
       "      <td>2.80</td>\n",
       "      <td>2.69</td>\n",
       "      <td>0.39</td>\n",
       "      <td>1.82</td>\n",
       "      <td>4.32</td>\n",
       "      <td>1.04</td>\n",
       "      <td>2.93</td>\n",
       "      <td>735.0</td>\n",
       "      <td>0</td>\n",
       "    </tr>\n",
       "  </tbody>\n",
       "</table>\n",
       "</div>"
      ],
      "text/plain": [
       "   alcohol  malic_acid   ash  alcalinity_of_ash  magnesium  total_phenols  \\\n",
       "0    14.23        1.71  2.43               15.6      127.0           2.80   \n",
       "1    13.20        1.78  2.14               11.2      100.0           2.65   \n",
       "2    13.16        2.36  2.67               18.6      101.0           2.80   \n",
       "3    14.37        1.95  2.50               16.8      113.0           3.85   \n",
       "4    13.24        2.59  2.87               21.0      118.0           2.80   \n",
       "\n",
       "   flavanoids  nonflavanoid_phenols  proanthocyanins  color_intensity   hue  \\\n",
       "0        3.06                  0.28             2.29             5.64  1.04   \n",
       "1        2.76                  0.26             1.28             4.38  1.05   \n",
       "2        3.24                  0.30             2.81             5.68  1.03   \n",
       "3        3.49                  0.24             2.18             7.80  0.86   \n",
       "4        2.69                  0.39             1.82             4.32  1.04   \n",
       "\n",
       "   od280/od315_of_diluted_wines  proline  target  \n",
       "0                          3.92   1065.0       0  \n",
       "1                          3.40   1050.0       0  \n",
       "2                          3.17   1185.0       0  \n",
       "3                          3.45   1480.0       0  \n",
       "4                          2.93    735.0       0  "
      ]
     },
     "execution_count": 42,
     "metadata": {},
     "output_type": "execute_result"
    }
   ],
   "source": [
    "wine_df.head()"
   ]
  },
  {
   "cell_type": "code",
   "execution_count": 43,
   "metadata": {},
   "outputs": [
    {
     "data": {
      "text/html": [
       "<div>\n",
       "<style scoped>\n",
       "    .dataframe tbody tr th:only-of-type {\n",
       "        vertical-align: middle;\n",
       "    }\n",
       "\n",
       "    .dataframe tbody tr th {\n",
       "        vertical-align: top;\n",
       "    }\n",
       "\n",
       "    .dataframe thead th {\n",
       "        text-align: right;\n",
       "    }\n",
       "</style>\n",
       "<table border=\"1\" class=\"dataframe\">\n",
       "  <thead>\n",
       "    <tr style=\"text-align: right;\">\n",
       "      <th></th>\n",
       "      <th>alcohol</th>\n",
       "      <th>malic_acid</th>\n",
       "      <th>ash</th>\n",
       "      <th>alcalinity_of_ash</th>\n",
       "      <th>magnesium</th>\n",
       "      <th>total_phenols</th>\n",
       "      <th>flavanoids</th>\n",
       "      <th>nonflavanoid_phenols</th>\n",
       "      <th>proanthocyanins</th>\n",
       "      <th>color_intensity</th>\n",
       "      <th>hue</th>\n",
       "      <th>od280/od315_of_diluted_wines</th>\n",
       "      <th>proline</th>\n",
       "      <th>target</th>\n",
       "    </tr>\n",
       "  </thead>\n",
       "  <tbody>\n",
       "    <tr>\n",
       "      <th>count</th>\n",
       "      <td>178.000000</td>\n",
       "      <td>178.000000</td>\n",
       "      <td>178.000000</td>\n",
       "      <td>178.000000</td>\n",
       "      <td>178.000000</td>\n",
       "      <td>178.000000</td>\n",
       "      <td>178.000000</td>\n",
       "      <td>178.000000</td>\n",
       "      <td>178.000000</td>\n",
       "      <td>178.000000</td>\n",
       "      <td>178.000000</td>\n",
       "      <td>178.000000</td>\n",
       "      <td>178.000000</td>\n",
       "      <td>178.000000</td>\n",
       "    </tr>\n",
       "    <tr>\n",
       "      <th>mean</th>\n",
       "      <td>13.000618</td>\n",
       "      <td>2.336348</td>\n",
       "      <td>2.366517</td>\n",
       "      <td>19.494944</td>\n",
       "      <td>99.741573</td>\n",
       "      <td>2.295112</td>\n",
       "      <td>2.029270</td>\n",
       "      <td>0.361854</td>\n",
       "      <td>1.590899</td>\n",
       "      <td>5.058090</td>\n",
       "      <td>0.957449</td>\n",
       "      <td>2.611685</td>\n",
       "      <td>746.893258</td>\n",
       "      <td>0.938202</td>\n",
       "    </tr>\n",
       "    <tr>\n",
       "      <th>std</th>\n",
       "      <td>0.811827</td>\n",
       "      <td>1.117146</td>\n",
       "      <td>0.274344</td>\n",
       "      <td>3.339564</td>\n",
       "      <td>14.282484</td>\n",
       "      <td>0.625851</td>\n",
       "      <td>0.998859</td>\n",
       "      <td>0.124453</td>\n",
       "      <td>0.572359</td>\n",
       "      <td>2.318286</td>\n",
       "      <td>0.228572</td>\n",
       "      <td>0.709990</td>\n",
       "      <td>314.907474</td>\n",
       "      <td>0.775035</td>\n",
       "    </tr>\n",
       "    <tr>\n",
       "      <th>min</th>\n",
       "      <td>11.030000</td>\n",
       "      <td>0.740000</td>\n",
       "      <td>1.360000</td>\n",
       "      <td>10.600000</td>\n",
       "      <td>70.000000</td>\n",
       "      <td>0.980000</td>\n",
       "      <td>0.340000</td>\n",
       "      <td>0.130000</td>\n",
       "      <td>0.410000</td>\n",
       "      <td>1.280000</td>\n",
       "      <td>0.480000</td>\n",
       "      <td>1.270000</td>\n",
       "      <td>278.000000</td>\n",
       "      <td>0.000000</td>\n",
       "    </tr>\n",
       "    <tr>\n",
       "      <th>25%</th>\n",
       "      <td>12.362500</td>\n",
       "      <td>1.602500</td>\n",
       "      <td>2.210000</td>\n",
       "      <td>17.200000</td>\n",
       "      <td>88.000000</td>\n",
       "      <td>1.742500</td>\n",
       "      <td>1.205000</td>\n",
       "      <td>0.270000</td>\n",
       "      <td>1.250000</td>\n",
       "      <td>3.220000</td>\n",
       "      <td>0.782500</td>\n",
       "      <td>1.937500</td>\n",
       "      <td>500.500000</td>\n",
       "      <td>0.000000</td>\n",
       "    </tr>\n",
       "    <tr>\n",
       "      <th>50%</th>\n",
       "      <td>13.050000</td>\n",
       "      <td>1.865000</td>\n",
       "      <td>2.360000</td>\n",
       "      <td>19.500000</td>\n",
       "      <td>98.000000</td>\n",
       "      <td>2.355000</td>\n",
       "      <td>2.135000</td>\n",
       "      <td>0.340000</td>\n",
       "      <td>1.555000</td>\n",
       "      <td>4.690000</td>\n",
       "      <td>0.965000</td>\n",
       "      <td>2.780000</td>\n",
       "      <td>673.500000</td>\n",
       "      <td>1.000000</td>\n",
       "    </tr>\n",
       "    <tr>\n",
       "      <th>75%</th>\n",
       "      <td>13.677500</td>\n",
       "      <td>3.082500</td>\n",
       "      <td>2.557500</td>\n",
       "      <td>21.500000</td>\n",
       "      <td>107.000000</td>\n",
       "      <td>2.800000</td>\n",
       "      <td>2.875000</td>\n",
       "      <td>0.437500</td>\n",
       "      <td>1.950000</td>\n",
       "      <td>6.200000</td>\n",
       "      <td>1.120000</td>\n",
       "      <td>3.170000</td>\n",
       "      <td>985.000000</td>\n",
       "      <td>2.000000</td>\n",
       "    </tr>\n",
       "    <tr>\n",
       "      <th>max</th>\n",
       "      <td>14.830000</td>\n",
       "      <td>5.800000</td>\n",
       "      <td>3.230000</td>\n",
       "      <td>30.000000</td>\n",
       "      <td>162.000000</td>\n",
       "      <td>3.880000</td>\n",
       "      <td>5.080000</td>\n",
       "      <td>0.660000</td>\n",
       "      <td>3.580000</td>\n",
       "      <td>13.000000</td>\n",
       "      <td>1.710000</td>\n",
       "      <td>4.000000</td>\n",
       "      <td>1680.000000</td>\n",
       "      <td>2.000000</td>\n",
       "    </tr>\n",
       "  </tbody>\n",
       "</table>\n",
       "</div>"
      ],
      "text/plain": [
       "          alcohol  malic_acid         ash  alcalinity_of_ash   magnesium  \\\n",
       "count  178.000000  178.000000  178.000000         178.000000  178.000000   \n",
       "mean    13.000618    2.336348    2.366517          19.494944   99.741573   \n",
       "std      0.811827    1.117146    0.274344           3.339564   14.282484   \n",
       "min     11.030000    0.740000    1.360000          10.600000   70.000000   \n",
       "25%     12.362500    1.602500    2.210000          17.200000   88.000000   \n",
       "50%     13.050000    1.865000    2.360000          19.500000   98.000000   \n",
       "75%     13.677500    3.082500    2.557500          21.500000  107.000000   \n",
       "max     14.830000    5.800000    3.230000          30.000000  162.000000   \n",
       "\n",
       "       total_phenols  flavanoids  nonflavanoid_phenols  proanthocyanins  \\\n",
       "count     178.000000  178.000000            178.000000       178.000000   \n",
       "mean        2.295112    2.029270              0.361854         1.590899   \n",
       "std         0.625851    0.998859              0.124453         0.572359   \n",
       "min         0.980000    0.340000              0.130000         0.410000   \n",
       "25%         1.742500    1.205000              0.270000         1.250000   \n",
       "50%         2.355000    2.135000              0.340000         1.555000   \n",
       "75%         2.800000    2.875000              0.437500         1.950000   \n",
       "max         3.880000    5.080000              0.660000         3.580000   \n",
       "\n",
       "       color_intensity         hue  od280/od315_of_diluted_wines      proline  \\\n",
       "count       178.000000  178.000000                    178.000000   178.000000   \n",
       "mean          5.058090    0.957449                      2.611685   746.893258   \n",
       "std           2.318286    0.228572                      0.709990   314.907474   \n",
       "min           1.280000    0.480000                      1.270000   278.000000   \n",
       "25%           3.220000    0.782500                      1.937500   500.500000   \n",
       "50%           4.690000    0.965000                      2.780000   673.500000   \n",
       "75%           6.200000    1.120000                      3.170000   985.000000   \n",
       "max          13.000000    1.710000                      4.000000  1680.000000   \n",
       "\n",
       "           target  \n",
       "count  178.000000  \n",
       "mean     0.938202  \n",
       "std      0.775035  \n",
       "min      0.000000  \n",
       "25%      0.000000  \n",
       "50%      1.000000  \n",
       "75%      2.000000  \n",
       "max      2.000000  "
      ]
     },
     "execution_count": 43,
     "metadata": {},
     "output_type": "execute_result"
    }
   ],
   "source": [
    "wine_df.describe()"
   ]
  },
  {
   "cell_type": "code",
   "execution_count": 44,
   "metadata": {},
   "outputs": [],
   "source": [
    "X_wine_train, X_wine_temp, y_wine_train, y_wine_temp = train_test_split(X_wine, y_wine, test_size=0.4, random_state=42)\n",
    "X_wine_valid, X_wine_test, y_wine_valid, y_wine_test = train_test_split(X_wine_temp, y_wine_temp, test_size=0.5, random_state=42)"
   ]
  },
  {
   "cell_type": "code",
   "execution_count": 45,
   "metadata": {},
   "outputs": [
    {
     "name": "stdout",
     "output_type": "stream",
     "text": [
      "Training set shape: (106, 13) (106,)\n",
      "Validation set shape: (36, 13) (36,)\n",
      "Test set shape: (36, 13) (36,)\n"
     ]
    }
   ],
   "source": [
    "print(\"Training set shape:\", X_wine_train.shape, y_wine_train.shape)\n",
    "print(\"Validation set shape:\", X_wine_valid.shape, y_wine_valid.shape)\n",
    "print(\"Test set shape:\", X_wine_test.shape, y_wine_test.shape)"
   ]
  },
  {
   "cell_type": "markdown",
   "metadata": {},
   "source": [
    "### Task 2: Apply baseline models of your choice (1 classification + 1 regression) for each of the two datasets for classification and regression respectively [20 Points]. \n",
    "\n",
    "Please note you cannot choose models expected in Task 4 as baselines.\n",
    "\n",
    "```python\n",
    "baseline = YourAlgorithm()\n",
    "baseline.fit(features_train, labels_train)\n",
    "```"
   ]
  },
  {
   "cell_type": "markdown",
   "metadata": {},
   "source": [
    "### Regression"
   ]
  },
  {
   "cell_type": "code",
   "execution_count": 46,
   "metadata": {},
   "outputs": [],
   "source": [
    "from models.linear_regression.regression_closed import ClosedFormRegression\n",
    "# Train the ClosedFormRegression model\n",
    "model = ClosedFormRegression(bias=True)\n",
    "model.fit(X_auto_mpg_train, y_auto_mpg_train)"
   ]
  },
  {
   "cell_type": "markdown",
   "metadata": {},
   "source": [
    "### Classificaiton"
   ]
  },
  {
   "cell_type": "code",
   "execution_count": 47,
   "metadata": {},
   "outputs": [],
   "source": [
    "from sklearn.metrics import precision_score, recall_score, accuracy_score\n",
    "from models.decision_tree.tree import DecisionTree\n",
    "\n",
    "# Initialize the DecisionTree classifier\n",
    "\n",
    "decision_tree = DecisionTree(criterion='gini', max_depth=None, min_samples_split=2, random_state=42)\n",
    "\n",
    "# Train the classifier on the training data\n",
    "decision_tree.fit(X_iris_train, y_iris_train)\n",
    "\n",
    "# Predict on the validation and test data\n",
    "y_iris_valid_pred = decision_tree.predict(X_iris_valid)\n",
    "y_iris_test_pred = decision_tree.predict(X_iris_test)\n"
   ]
  },
  {
   "cell_type": "markdown",
   "metadata": {},
   "source": [
    "### Task 3: Evaluate your baseline models on test set [10 Points]: \n",
    "\n",
    "Use accuracy, precision and recall for classification, and R2 score and MAE/RMSE for regression\n",
    "\n",
    "```python\n",
    "baseline_predicted = model_baseline.predict(features_test)\n",
    "evaluate_fn(baseline_predicted, labels_test)\n",
    "```"
   ]
  },
  {
   "cell_type": "markdown",
   "metadata": {},
   "source": [
    "### Regression Score"
   ]
  },
  {
   "cell_type": "code",
   "execution_count": 48,
   "metadata": {},
   "outputs": [
    {
     "name": "stdout",
     "output_type": "stream",
     "text": [
      "Training R^2 score (Auto MPG): 0.8256138655783969\n",
      "Validation R^2 score (Auto MPG): 0.8091687750314244\n",
      "Test R^2 score (Auto MPG): 0.7799654321998786\n"
     ]
    }
   ],
   "source": [
    "# Evaluate the model\n",
    "train_score_auto_mpg = model.score(X_auto_mpg_train, y_auto_mpg_train)\n",
    "valid_score_auto_mpg = model.score(X_auto_mpg_valid, y_auto_mpg_valid)\n",
    "test_score_auto_mpg = model.score(X_auto_mpg_test, y_auto_mpg_test)\n",
    "\n",
    "print(\"Training R^2 score (Auto MPG):\", train_score_auto_mpg)\n",
    "print(\"Validation R^2 score (Auto MPG):\", valid_score_auto_mpg)\n",
    "print(\"Test R^2 score (Auto MPG):\", test_score_auto_mpg)"
   ]
  },
  {
   "cell_type": "code",
   "execution_count": 49,
   "metadata": {},
   "outputs": [
    {
     "name": "stdout",
     "output_type": "stream",
     "text": [
      "Training MAE (Auto MPG): 0.3305625097262077\n",
      "Validation MAE (Auto MPG): 0.34265308240301967\n",
      "Test MAE (Auto MPG): 0.3048735030517721\n"
     ]
    }
   ],
   "source": [
    "# Function to calculate Mean Absolute Error (MAE)\n",
    "def mean_absolute_error(y_true, y_pred):\n",
    "    return np.mean(np.abs(y_true - y_pred))\n",
    "\n",
    "# Predictions\n",
    "y_auto_mpg_train_pred = model.predict(X_auto_mpg_train)\n",
    "y_auto_mpg_valid_pred = model.predict(X_auto_mpg_valid)\n",
    "y_auto_mpg_test_pred = model.predict(X_auto_mpg_test)\n",
    "\n",
    "# Calculate MAE\n",
    "train_mae_auto_mpg = mean_absolute_error(y_auto_mpg_train, y_auto_mpg_train_pred)\n",
    "valid_mae_auto_mpg = mean_absolute_error(y_auto_mpg_valid, y_auto_mpg_valid_pred)\n",
    "test_mae_auto_mpg = mean_absolute_error(y_auto_mpg_test, y_auto_mpg_test_pred)\n",
    "\n",
    "\n",
    "print(\"Training MAE (Auto MPG):\", train_mae_auto_mpg)\n",
    "print(\"Validation MAE (Auto MPG):\", valid_mae_auto_mpg)\n",
    "print(\"Test MAE (Auto MPG):\", test_mae_auto_mpg)"
   ]
  },
  {
   "cell_type": "markdown",
   "metadata": {},
   "source": [
    "### Classification Score"
   ]
  },
  {
   "cell_type": "code",
   "execution_count": 50,
   "metadata": {},
   "outputs": [
    {
     "name": "stdout",
     "output_type": "stream",
     "text": [
      "Validation Accuracy: 20.00%\n",
      "Validation Precision: 6.67%\n",
      "Validation Recall: 33.33%\n",
      "Test Accuracy: 43.33%\n",
      "Test Precision: 14.44%\n",
      "Test Recall: 33.33%\n"
     ]
    }
   ],
   "source": [
    "# Calculate accuracy, precision, and recall for validation data\n",
    "validation_accuracy = accuracy_score(y_iris_valid, y_iris_valid_pred)\n",
    "validation_precision = precision_score(y_iris_valid, y_iris_valid_pred, average='macro', zero_division=0)\n",
    "validation_recall = recall_score(y_iris_valid, y_iris_valid_pred, average='macro', zero_division=0)\n",
    "\n",
    "print(f'Validation Accuracy: {validation_accuracy * 100:.2f}%')\n",
    "print(f'Validation Precision: {validation_precision * 100:.2f}%')\n",
    "print(f'Validation Recall: {validation_recall * 100:.2f}%')\n",
    "\n",
    "# Calculate accuracy, precision, and recall for test data\n",
    "test_accuracy = accuracy_score(y_iris_test, y_iris_test_pred)\n",
    "test_precision = precision_score(y_iris_test, y_iris_test_pred, average='macro', zero_division=0)\n",
    "test_recall = recall_score(y_iris_test, y_iris_test_pred, average='macro', zero_division=0)\n",
    "\n",
    "print(f'Test Accuracy: {test_accuracy * 100:.2f}%')\n",
    "print(f'Test Precision: {test_precision * 100:.2f}%')\n",
    "print(f'Test Recall: {test_recall * 100:.2f}%')"
   ]
  },
  {
   "cell_type": "markdown",
   "metadata": {},
   "source": [
    "### Task 4: Apply the following methods [20 Points]:\n",
    "\n",
    "    a) Logistic Regression for classification \n",
    "    b) Artificial Neural Network for regression\n",
    "    \n",
    "Report the same metrics used for the baselines on the test set."
   ]
  },
  {
   "cell_type": "markdown",
   "metadata": {},
   "source": [
    "### a) Logistic Regression for classification "
   ]
  },
  {
   "cell_type": "code",
   "execution_count": 51,
   "metadata": {},
   "outputs": [
    {
     "name": "stdout",
     "output_type": "stream",
     "text": [
      "Test Accuracy: 63.33%\n",
      "Test Precision: 42.56%\n",
      "Test Recall: 53.38%\n"
     ]
    }
   ],
   "source": [
    "from models.logistic_regression.logistic import LogisticRegression\n",
    "# Initialize the LogisticRegression classifier\n",
    "logistic_regression = LogisticRegression(learning_rate=0.01, num_iterations=1000)\n",
    "\n",
    "# Train the classifier on the training data\n",
    "logistic_regression.fit(X_iris_train, y_iris_train)\n",
    "\n",
    "# Predict on the validation and test data\n",
    "y_iris_valid_pred = logistic_regression.predict(X_iris_valid)\n",
    "y_iris_test_pred = logistic_regression.predict(X_iris_test)\n",
    "\n",
    "# Calculate accuracy, precision, and recall for test data\n",
    "test_accuracy = accuracy_score(y_iris_test, y_iris_test_pred)\n",
    "test_precision = precision_score(y_iris_test, y_iris_test_pred, average='macro', zero_division=0)\n",
    "test_recall = recall_score(y_iris_test, y_iris_test_pred, average='macro', zero_division=0)\n",
    "\n",
    "print(f'Test Accuracy: {test_accuracy * 100:.2f}%')\n",
    "print(f'Test Precision: {test_precision * 100:.2f}%')\n",
    "print(f'Test Recall: {test_recall * 100:.2f}%')"
   ]
  },
  {
   "cell_type": "markdown",
   "metadata": {},
   "source": [
    "### b) Artificial Neural Network for regression"
   ]
  },
  {
   "cell_type": "code",
   "execution_count": 52,
   "metadata": {},
   "outputs": [
    {
     "ename": "ValueError",
     "evalue": "shapes (235,235) and (1,10) not aligned: 235 (dim 1) != 1 (dim 0)",
     "output_type": "error",
     "traceback": [
      "\u001b[0;31m---------------------------------------------------------------------------\u001b[0m",
      "\u001b[0;31mValueError\u001b[0m                                Traceback (most recent call last)",
      "Cell \u001b[0;32mIn[52], line 7\u001b[0m\n\u001b[1;32m      4\u001b[0m mlp_regressor \u001b[38;5;241m=\u001b[39m MLPRegressor(hidden_layer_sizes\u001b[38;5;241m=\u001b[39m(\u001b[38;5;241m10\u001b[39m, \u001b[38;5;241m10\u001b[39m), lr\u001b[38;5;241m=\u001b[39m\u001b[38;5;241m0.0001\u001b[39m, epochs\u001b[38;5;241m=\u001b[39m\u001b[38;5;241m1000\u001b[39m, random_state\u001b[38;5;241m=\u001b[39m\u001b[38;5;241m42\u001b[39m, activation\u001b[38;5;241m=\u001b[39m\u001b[38;5;124m'\u001b[39m\u001b[38;5;124mtanh\u001b[39m\u001b[38;5;124m'\u001b[39m)\n\u001b[1;32m      6\u001b[0m \u001b[38;5;66;03m# Train the regressor on the training data\u001b[39;00m\n\u001b[0;32m----> 7\u001b[0m \u001b[43mmlp_regressor\u001b[49m\u001b[38;5;241;43m.\u001b[39;49m\u001b[43mfit\u001b[49m\u001b[43m(\u001b[49m\u001b[43mX_auto_mpg_train\u001b[49m\u001b[43m,\u001b[49m\u001b[43m \u001b[49m\u001b[43my_auto_mpg_train\u001b[49m\u001b[43m)\u001b[49m\n\u001b[1;32m      9\u001b[0m \u001b[38;5;66;03m# Predict on the validation and test data\u001b[39;00m\n\u001b[1;32m     10\u001b[0m y_auto_mpg_valid_pred \u001b[38;5;241m=\u001b[39m mlp_regressor\u001b[38;5;241m.\u001b[39mpredict(X_auto_mpg_valid)\u001b[38;5;241m.\u001b[39mflatten()\n",
      "File \u001b[0;32m~/Documents/MLLab/ml-lab/src/models/ANN/mlp.py:210\u001b[0m, in \u001b[0;36mMLPRegressor.fit\u001b[0;34m(self, X, y)\u001b[0m\n\u001b[1;32m    208\u001b[0m \u001b[38;5;28;01mfor\u001b[39;00m layer \u001b[38;5;129;01min\u001b[39;00m \u001b[38;5;28mreversed\u001b[39m(\u001b[38;5;28mself\u001b[39m\u001b[38;5;241m.\u001b[39mlayers_):\n\u001b[1;32m    209\u001b[0m     \u001b[38;5;28;01mif\u001b[39;00m \u001b[38;5;28misinstance\u001b[39m(layer, ModularLinearLayer):\n\u001b[0;32m--> 210\u001b[0m         grad \u001b[38;5;241m=\u001b[39m \u001b[43mlayer\u001b[49m\u001b[38;5;241;43m.\u001b[39;49m\u001b[43mbackward\u001b[49m\u001b[43m(\u001b[49m\u001b[43mgrad\u001b[49m\u001b[43m,\u001b[49m\u001b[43m \u001b[49m\u001b[38;5;28;43mself\u001b[39;49m\u001b[38;5;241;43m.\u001b[39;49m\u001b[43malpha\u001b[49m\u001b[43m)\u001b[49m\n\u001b[1;32m    211\u001b[0m     \u001b[38;5;28;01melse\u001b[39;00m:\n\u001b[1;32m    212\u001b[0m         grad \u001b[38;5;241m=\u001b[39m layer\u001b[38;5;241m.\u001b[39mbackward(grad)\n",
      "File \u001b[0;32m~/Documents/MLLab/ml-lab/src/models/ANN/mlp.py:69\u001b[0m, in \u001b[0;36mModularLinearLayer.backward\u001b[0;34m(self, upstream_grad, alpha)\u001b[0m\n\u001b[1;32m     67\u001b[0m     \u001b[38;5;28mself\u001b[39m\u001b[38;5;241m.\u001b[39m_weight_grad \u001b[38;5;241m+\u001b[39m\u001b[38;5;241m=\u001b[39m alpha \u001b[38;5;241m*\u001b[39m \u001b[38;5;28mself\u001b[39m\u001b[38;5;241m.\u001b[39mweight_\n\u001b[1;32m     68\u001b[0m \u001b[38;5;28mself\u001b[39m\u001b[38;5;241m.\u001b[39m_bias_grad \u001b[38;5;241m=\u001b[39m np\u001b[38;5;241m.\u001b[39msum(upstream_grad, axis\u001b[38;5;241m=\u001b[39m\u001b[38;5;241m0\u001b[39m)\n\u001b[0;32m---> 69\u001b[0m \u001b[38;5;28;01mreturn\u001b[39;00m \u001b[43mupstream_grad\u001b[49m\u001b[38;5;241;43m.\u001b[39;49m\u001b[43mdot\u001b[49m\u001b[43m(\u001b[49m\u001b[38;5;28;43mself\u001b[39;49m\u001b[38;5;241;43m.\u001b[39;49m\u001b[43mweight_\u001b[49m\u001b[38;5;241;43m.\u001b[39;49m\u001b[43mT\u001b[49m\u001b[43m)\u001b[49m\n",
      "\u001b[0;31mValueError\u001b[0m: shapes (235,235) and (1,10) not aligned: 235 (dim 1) != 1 (dim 0)"
     ]
    }
   ],
   "source": [
    "from models.ANN.mlp import MLPRegressor\n",
    "\n",
    "# Initialize the MLPRegressor\n",
    "mlp_regressor = MLPRegressor(hidden_layer_sizes=(10, 10), lr=0.0001, epochs=1000, random_state=42, activation='tanh')\n",
    "\n",
    "# Train the regressor on the training data\n",
    "mlp_regressor.fit(X_auto_mpg_train, y_auto_mpg_train)\n",
    "\n",
    "# Predict on the validation and test data\n",
    "y_auto_mpg_valid_pred = mlp_regressor.predict(X_auto_mpg_valid).flatten()\n",
    "y_auto_mpg_test_pred = mlp_regressor.predict(X_auto_mpg_test).flatten()\n",
    "\n",
    "# Calculate and print the MSE for validation and test sets\n",
    "validation_mse = np.mean((y_auto_mpg_valid_pred - y_auto_mpg_valid) ** 2)\n",
    "test_mse = np.mean((y_auto_mpg_test_pred - y_auto_mpg_test) ** 2)\n"
   ]
  },
  {
   "cell_type": "code",
   "execution_count": null,
   "metadata": {},
   "outputs": [
    {
     "name": "stdout",
     "output_type": "stream",
     "text": [
      "Validation MSE: 0.14\n",
      "Test MSE: 0.10\n",
      "Validation R2 Score: 0.86\n",
      "Test R2 Score: 0.85\n",
      "Validation MAE: 0.29\n",
      "Test MAE: 0.24\n"
     ]
    }
   ],
   "source": [
    "from sklearn.metrics import r2_score, mean_absolute_error\n",
    "\n",
    "# Predict on the validation and test data\n",
    "y_auto_mpg_valid_pred = mlp_regressor.predict(X_auto_mpg_valid).flatten()\n",
    "y_auto_mpg_test_pred = mlp_regressor.predict(X_auto_mpg_test).flatten()\n",
    "\n",
    "# Calculate and print the MSE for validation and test sets\n",
    "validation_mse = np.mean((y_auto_mpg_valid_pred - y_auto_mpg_valid) ** 2)\n",
    "test_mse = np.mean((y_auto_mpg_test_pred - y_auto_mpg_test) ** 2)\n",
    "\n",
    "print(f'Validation MSE: {validation_mse:.2f}')\n",
    "print(f'Test MSE: {test_mse:.2f}')\n",
    "\n",
    "# Calculate and print R2 score and MAE for validation and test sets\n",
    "validation_r2 = r2_score(y_auto_mpg_valid, y_auto_mpg_valid_pred)\n",
    "test_r2 = r2_score(y_auto_mpg_test, y_auto_mpg_test_pred)\n",
    "\n",
    "validation_mae = mean_absolute_error(y_auto_mpg_valid, y_auto_mpg_valid_pred)\n",
    "test_mae = mean_absolute_error(y_auto_mpg_test, y_auto_mpg_test_pred)\n",
    "\n",
    "print(f'Validation R2 Score: {validation_r2:.2f}')\n",
    "print(f'Test R2 Score: {test_r2:.2f}')\n",
    "\n",
    "print(f'Validation MAE: {validation_mae:.2f}')\n",
    "print(f'Test MAE: {test_mae:.2f}')"
   ]
  },
  {
   "cell_type": "markdown",
   "metadata": {},
   "source": [
    "### Task 5: Hyperparameter Optimisation [20 Points]\n",
    "- For the ANN model implemented in Task 4, conduct a grid search in reasonable ranges to find an appropriate set of hyperparameters, and justify the choice by showing the best performance\n",
    "\n",
    "```python\n",
    "possible_hp_values = np.arange(1, 10, 0.1)\n",
    "best_hp_value = None\n",
    "best_f1_score = -np.infty\n",
    "for hp_value in possible_hp_values:\n",
    "    # 1. create a baseline classifier object with hp_value specified\n",
    "    current_model = YourAlgorithm(hyperparam=hp_value)\n",
    "    \n",
    "    # 2. learn the classifier on the training set\n",
    "    current_model.fit(features_train, labels_train)\n",
    "    \n",
    "    # 3. evaluate the model on the validation set\n",
    "    prediction = current_model.predict(features_valid)\n",
    "    \n",
    "    f1_score = compute_f1(labels_valid, prediction)\n",
    "    if f1_score > best_f1_score:\n",
    "        best_f1_score = f1_score\n",
    "        best_hp_value = hp_value\n",
    "\n",
    "print(\"Found hyperparameter value\", best_hp_value)\n",
    "print(\"Best f1-score on validation set\", best_f1_score)\n",
    "\n",
    "test_model = YourAlgorithm(hyperparam=best_hp_value)\n",
    "test_model.learn(features_train, labels_train)\n",
    "prediction = test_model.infer(features_test)\n",
    "test_f1_score = compute_f1(labels_test, prediction)\n",
    "print(\"F1-Score on test set\", test_f1_score)\n",
    "```\n"
   ]
  },
  {
   "cell_type": "code",
   "execution_count": null,
   "metadata": {},
   "outputs": [
    {
     "name": "stdout",
     "output_type": "stream",
     "text": [
      "Epoch 0, Loss: 1.367268409272382\n",
      "Epoch 100, Loss: 0.12026152556965919\n",
      "Epoch 200, Loss: 0.105233459577593\n",
      "Epoch 300, Loss: 0.09705774098704045\n",
      "Epoch 400, Loss: 0.09033550177835488\n",
      "Epoch 0, Loss: 1.367268409272382\n",
      "Epoch 100, Loss: 0.4934949618511255\n",
      "Epoch 200, Loss: 0.2709454232732258\n",
      "Epoch 300, Loss: 0.19635731852067573\n",
      "Epoch 400, Loss: 0.1648227012684113\n",
      "Epoch 0, Loss: 1.076325434927391\n",
      "Epoch 100, Loss: 0.1260545885352886\n",
      "Epoch 200, Loss: 0.10184380228475204\n",
      "Epoch 300, Loss: 0.08479441675006938\n",
      "Epoch 400, Loss: 0.07422031424617748\n",
      "Epoch 0, Loss: 1.076325434927391\n",
      "Epoch 100, Loss: 0.3189733880506515\n",
      "Epoch 200, Loss: 0.19435291401567129\n",
      "Epoch 300, Loss: 0.16361000478453774\n",
      "Epoch 400, Loss: 0.1518652525743881\n",
      "Epoch 0, Loss: 0.5378370622644695\n",
      "Epoch 100, Loss: 0.08535818536911591\n",
      "Epoch 200, Loss: 0.07105450991358433\n",
      "Epoch 300, Loss: 0.06541430949462908\n",
      "Epoch 400, Loss: 0.062348452811141764\n",
      "Epoch 0, Loss: 0.5378370622644695\n",
      "Epoch 100, Loss: 0.1666448942011101\n",
      "Epoch 200, Loss: 0.13497960248289145\n",
      "Epoch 300, Loss: 0.11987918766355553\n",
      "Epoch 400, Loss: 0.11039959228779786\n",
      "Epoch 0, Loss: 1.367268409272382\n",
      "Epoch 100, Loss: 0.12026152556965919\n",
      "Epoch 200, Loss: 0.105233459577593\n",
      "Epoch 300, Loss: 0.09705774098704045\n",
      "Epoch 400, Loss: 0.09033550177835488\n",
      "Epoch 500, Loss: 0.084369724531293\n",
      "Epoch 600, Loss: 0.07925054875736626\n",
      "Epoch 700, Loss: 0.07518085725705603\n",
      "Epoch 800, Loss: 0.0721447910819376\n",
      "Epoch 900, Loss: 0.06991226205808194\n",
      "Epoch 0, Loss: 1.367268409272382\n",
      "Epoch 100, Loss: 0.4934949618511255\n",
      "Epoch 200, Loss: 0.2709454232732258\n",
      "Epoch 300, Loss: 0.19635731852067573\n",
      "Epoch 400, Loss: 0.1648227012684113\n",
      "Epoch 500, Loss: 0.14849194119073136\n",
      "Epoch 600, Loss: 0.13859721953346327\n",
      "Epoch 700, Loss: 0.13190800788572987\n",
      "Epoch 800, Loss: 0.12703618095344368\n",
      "Epoch 900, Loss: 0.12329557181208328\n",
      "Epoch 0, Loss: 1.076325434927391\n",
      "Epoch 100, Loss: 0.1260545885352886\n",
      "Epoch 200, Loss: 0.10184380228475204\n",
      "Epoch 300, Loss: 0.08479441675006938\n",
      "Epoch 400, Loss: 0.07422031424617748\n",
      "Epoch 500, Loss: 0.06781926791057619\n",
      "Epoch 600, Loss: 0.06367680994683976\n",
      "Epoch 700, Loss: 0.06075371751125024\n",
      "Epoch 800, Loss: 0.058523616286230803\n",
      "Epoch 900, Loss: 0.056719504736168415\n",
      "Epoch 0, Loss: 1.076325434927391\n",
      "Epoch 100, Loss: 0.3189733880506515\n",
      "Epoch 200, Loss: 0.19435291401567129\n",
      "Epoch 300, Loss: 0.16361000478453774\n",
      "Epoch 400, Loss: 0.1518652525743881\n",
      "Epoch 500, Loss: 0.1451192762994887\n",
      "Epoch 600, Loss: 0.14014170570598794\n",
      "Epoch 700, Loss: 0.13601050115169033\n",
      "Epoch 800, Loss: 0.13238261130447843\n",
      "Epoch 900, Loss: 0.12909210412252914\n",
      "Epoch 0, Loss: 0.5378370622644695\n",
      "Epoch 100, Loss: 0.08535818536911591\n",
      "Epoch 200, Loss: 0.07105450991358433\n",
      "Epoch 300, Loss: 0.06541430949462908\n",
      "Epoch 400, Loss: 0.062348452811141764\n",
      "Epoch 500, Loss: 0.06026979150797866\n",
      "Epoch 600, Loss: 0.05868987060172719\n",
      "Epoch 700, Loss: 0.05741610331566698\n",
      "Epoch 800, Loss: 0.05635067831780221\n",
      "Epoch 900, Loss: 0.05543513726754237\n",
      "Epoch 0, Loss: 0.5378370622644695\n",
      "Epoch 100, Loss: 0.1666448942011101\n",
      "Epoch 200, Loss: 0.13497960248289145\n",
      "Epoch 300, Loss: 0.11987918766355553\n",
      "Epoch 400, Loss: 0.11039959228779786\n",
      "Epoch 500, Loss: 0.10370350806686619\n",
      "Epoch 600, Loss: 0.09857400408177137\n",
      "Epoch 700, Loss: 0.09442427481570057\n",
      "Epoch 800, Loss: 0.09094750808048355\n",
      "Epoch 900, Loss: 0.08796938240331109\n",
      "Epoch 0, Loss: 1.0520962292061227\n",
      "Epoch 100, Loss: 0.10167133194650446\n",
      "Epoch 200, Loss: 0.08333179290599671\n",
      "Epoch 300, Loss: 0.07742297257743416\n",
      "Epoch 400, Loss: 0.07398376347130954\n",
      "Epoch 0, Loss: 1.0520962292061227\n",
      "Epoch 100, Loss: 0.41248003978742687\n",
      "Epoch 200, Loss: 0.24222125719592583\n",
      "Epoch 300, Loss: 0.1845344452120903\n",
      "Epoch 400, Loss: 0.15641390462295532\n",
      "Epoch 0, Loss: 0.8398087042533602\n",
      "Epoch 100, Loss: 0.11784028074089603\n",
      "Epoch 200, Loss: 0.09109798506907524\n",
      "Epoch 300, Loss: 0.07806354181889763\n",
      "Epoch 400, Loss: 0.06935758713391255\n",
      "Epoch 0, Loss: 0.8398087042533602\n",
      "Epoch 100, Loss: 0.5331943398721396\n",
      "Epoch 200, Loss: 0.38576067572016737\n",
      "Epoch 300, Loss: 0.288429261961856\n",
      "Epoch 400, Loss: 0.22004913563881767\n",
      "Epoch 0, Loss: 0.9169154427055504\n",
      "Epoch 100, Loss: 0.085473336095508\n",
      "Epoch 200, Loss: 0.06902092811927286\n",
      "Epoch 300, Loss: 0.06197114744642942\n",
      "Epoch 400, Loss: 0.05740087107233253\n",
      "Epoch 0, Loss: 0.9169154427055504\n",
      "Epoch 100, Loss: 0.23709429983764901\n",
      "Epoch 200, Loss: 0.17284344763881263\n",
      "Epoch 300, Loss: 0.14676384068334233\n",
      "Epoch 400, Loss: 0.1293168484437284\n",
      "Epoch 0, Loss: 1.0520962292061227\n",
      "Epoch 100, Loss: 0.10167133194650446\n",
      "Epoch 200, Loss: 0.08333179290599671\n",
      "Epoch 300, Loss: 0.07742297257743416\n",
      "Epoch 400, Loss: 0.07398376347130954\n",
      "Epoch 500, Loss: 0.07166387213934858\n",
      "Epoch 600, Loss: 0.06984178406507847\n",
      "Epoch 700, Loss: 0.06840469792805849\n",
      "Epoch 800, Loss: 0.06711041387039045\n",
      "Epoch 900, Loss: 0.06603713466495816\n",
      "Epoch 0, Loss: 1.0520962292061227\n",
      "Epoch 100, Loss: 0.41248003978742687\n",
      "Epoch 200, Loss: 0.24222125719592583\n",
      "Epoch 300, Loss: 0.1845344452120903\n",
      "Epoch 400, Loss: 0.15641390462295532\n",
      "Epoch 500, Loss: 0.13912247498730954\n",
      "Epoch 600, Loss: 0.1273301083815209\n",
      "Epoch 700, Loss: 0.11874991086986224\n",
      "Epoch 800, Loss: 0.11197125498485451\n",
      "Epoch 900, Loss: 0.10636817266691773\n",
      "Epoch 0, Loss: 0.8398087042533602\n",
      "Epoch 100, Loss: 0.11784028074089603\n",
      "Epoch 200, Loss: 0.09109798506907524\n",
      "Epoch 300, Loss: 0.07806354181889763\n",
      "Epoch 400, Loss: 0.06935758713391255\n",
      "Epoch 500, Loss: 0.0621057264593937\n",
      "Epoch 600, Loss: 0.05600538577773288\n",
      "Epoch 700, Loss: 0.052119415339730926\n",
      "Epoch 800, Loss: 0.05010362268782116\n",
      "Epoch 900, Loss: 0.04857179237506717\n",
      "Epoch 0, Loss: 0.8398087042533602\n",
      "Epoch 100, Loss: 0.5331943398721396\n",
      "Epoch 200, Loss: 0.38576067572016737\n",
      "Epoch 300, Loss: 0.288429261961856\n",
      "Epoch 400, Loss: 0.22004913563881767\n",
      "Epoch 500, Loss: 0.17645558284087212\n",
      "Epoch 600, Loss: 0.1513610018356861\n",
      "Epoch 700, Loss: 0.1372929061768912\n",
      "Epoch 800, Loss: 0.12845723414432797\n",
      "Epoch 900, Loss: 0.12244555063441424\n",
      "Epoch 0, Loss: 0.9169154427055504\n",
      "Epoch 100, Loss: 0.085473336095508\n",
      "Epoch 200, Loss: 0.06902092811927286\n",
      "Epoch 300, Loss: 0.06197114744642942\n",
      "Epoch 400, Loss: 0.05740087107233253\n",
      "Epoch 500, Loss: 0.05425467295829334\n",
      "Epoch 600, Loss: 0.051786332252963904\n",
      "Epoch 700, Loss: 0.050030976192432394\n",
      "Epoch 800, Loss: 0.048722041499281894\n",
      "Epoch 900, Loss: 0.047598326763895187\n",
      "Epoch 0, Loss: 0.9169154427055504\n",
      "Epoch 100, Loss: 0.23709429983764901\n",
      "Epoch 200, Loss: 0.17284344763881263\n",
      "Epoch 300, Loss: 0.14676384068334233\n",
      "Epoch 400, Loss: 0.1293168484437284\n",
      "Epoch 500, Loss: 0.11658203198149684\n",
      "Epoch 600, Loss: 0.1067012122169254\n",
      "Epoch 700, Loss: 0.0990867601793899\n",
      "Epoch 800, Loss: 0.09331603165452142\n",
      "Epoch 900, Loss: 0.08887278408035176\n",
      "Best Hyperparameters: {'activation': 'relu', 'epochs': 500, 'hidden_layer_sizes': (20, 10), 'lr': 0.0001}\n",
      "Validation MSE with Best Hyperparameters: 0.13\n",
      "Epoch 0, Loss: 0.9169154427055504\n",
      "Epoch 100, Loss: 0.085473336095508\n",
      "Epoch 200, Loss: 0.06902092811927286\n",
      "Epoch 300, Loss: 0.06197114744642942\n",
      "Epoch 400, Loss: 0.05740087107233253\n",
      "Test MSE: 0.10\n",
      "Test R2 Score: 0.86\n",
      "Test MAE: 0.24\n"
     ]
    }
   ],
   "source": [
    "from sklearn.model_selection import ParameterGrid\n",
    "from sklearn.metrics import mean_squared_error\n",
    "\n",
    "# Define the grid of hyperparameters\n",
    "param_grid = {\n",
    "    'hidden_layer_sizes': [(10,), (10, 10), (20, 10)],\n",
    "    'lr': [0.0001, 0.00001],\n",
    "    'epochs': [500, 1000],\n",
    "    'activation': ['tanh', 'relu']\n",
    "}\n",
    "\n",
    "# Initialize variables to track the best hyperparameters and performance\n",
    "best_params = None\n",
    "best_mse = float('inf')\n",
    "\n",
    "# Perform grid search\n",
    "for params in ParameterGrid(param_grid):\n",
    "    mlp_regressor = MLPRegressor(hidden_layer_sizes=params['hidden_layer_sizes'], lr=params['lr'], epochs=params['epochs'], random_state=42, activation=params['activation'])\n",
    "    mlp_regressor.fit(X_auto_mpg_train, y_auto_mpg_train)\n",
    "    \n",
    "    # Predict on the validation data\n",
    "    y_auto_mpg_valid_pred = mlp_regressor.predict(X_auto_mpg_valid).flatten()\n",
    "    \n",
    "    # Calculate MSE\n",
    "    mse = mean_squared_error(y_auto_mpg_valid, y_auto_mpg_valid_pred)\n",
    "    \n",
    "    # Update best hyperparameters if current model is better\n",
    "    if mse < best_mse:\n",
    "        best_mse = mse\n",
    "        best_params = params\n",
    "\n",
    "print(f'Best Hyperparameters: {best_params}')\n",
    "print(f'Validation MSE with Best Hyperparameters: {best_mse:.2f}')\n",
    "\n",
    "# Evaluate the best model on the test data\n",
    "best_mlp_regressor = MLPRegressor(hidden_layer_sizes=best_params['hidden_layer_sizes'], lr=best_params['lr'], epochs=best_params['epochs'], random_state=42, activation=best_params['activation'])\n",
    "best_mlp_regressor.fit(X_auto_mpg_train, y_auto_mpg_train)\n",
    "y_auto_mpg_test_pred = best_mlp_regressor.predict(X_auto_mpg_test).flatten()\n",
    "test_mse = mean_squared_error(y_auto_mpg_test, y_auto_mpg_test_pred)\n",
    "test_r2 = r2_score(y_auto_mpg_test, y_auto_mpg_test_pred)\n",
    "test_mae = mean_absolute_error(y_auto_mpg_test, y_auto_mpg_test_pred)\n",
    "\n",
    "print(f'Test MSE: {test_mse:.2f}')\n",
    "print(f'Test R2 Score: {test_r2:.2f}')\n",
    "print(f'Test MAE: {test_mae:.2f}')"
   ]
  },
  {
   "cell_type": "markdown",
   "metadata": {},
   "source": [
    "### Best Parameters"
   ]
  },
  {
   "cell_type": "code",
   "execution_count": null,
   "metadata": {},
   "outputs": [
    {
     "name": "stdout",
     "output_type": "stream",
     "text": [
      "Best Hyperparameters: {'activation': 'relu', 'epochs': 500, 'hidden_layer_sizes': (20, 10), 'lr': 0.0001}\n",
      "Validation MSE with Best Hyperparameters: 0.13\n",
      "Epoch 0, Loss: 0.9169154427055504\n",
      "Epoch 100, Loss: 0.085473336095508\n",
      "Epoch 200, Loss: 0.06902092811927286\n",
      "Epoch 300, Loss: 0.06197114744642942\n",
      "Epoch 400, Loss: 0.05740087107233253\n",
      "Test MSE: 0.10\n",
      "Test R2 Score: 0.86\n",
      "Test MAE: 0.24\n"
     ]
    }
   ],
   "source": [
    "print(f'Best Hyperparameters: {best_params}')\n",
    "print(f'Validation MSE with Best Hyperparameters: {best_mse:.2f}')\n",
    "\n",
    "# Evaluate the best model on the test data\n",
    "best_mlp_regressor = MLPRegressor(hidden_layer_sizes=best_params['hidden_layer_sizes'], lr=best_params['lr'], epochs=best_params['epochs'], random_state=42, activation=best_params['activation'])\n",
    "best_mlp_regressor.fit(X_auto_mpg_train, y_auto_mpg_train)\n",
    "y_auto_mpg_test_pred = best_mlp_regressor.predict(X_auto_mpg_test).flatten()\n",
    "test_mse = mean_squared_error(y_auto_mpg_test, y_auto_mpg_test_pred)\n",
    "test_r2 = r2_score(y_auto_mpg_test, y_auto_mpg_test_pred)\n",
    "test_mae = mean_absolute_error(y_auto_mpg_test, y_auto_mpg_test_pred)\n",
    "\n",
    "print(f'Test MSE: {test_mse:.2f}')\n",
    "print(f'Test R2 Score: {test_r2:.2f}')\n",
    "print(f'Test MAE: {test_mae:.2f}')"
   ]
  },
  {
   "cell_type": "markdown",
   "metadata": {},
   "source": [
    "### Task 6: Cross-Validation [10 Points]\n",
    "\n",
    "- Over multiple runs $r \\geq 5, r\\in\\mathbb{N}$  randomly shuffle your training data.\n",
    "- Split it into a train-test, e.g. 90% of the data is for training, 10% for testing.\n",
    "- Report the mean and standard deviation of the error/accuracy of your models over the multiple runs.\n",
    "- Plot a boxplot of the stability of your model."
   ]
  },
  {
   "cell_type": "code",
   "execution_count": null,
   "metadata": {},
   "outputs": [
    {
     "name": "stdout",
     "output_type": "stream",
     "text": [
      "Epoch 0, Loss: 326.36306417630726\n",
      "Epoch 100, Loss: 11.76367297788582\n",
      "Epoch 200, Loss: 7.135723875643678\n",
      "Epoch 300, Loss: 5.088876848304974\n",
      "Epoch 400, Loss: 4.413212286439414\n",
      "Epoch 0, Loss: 326.3081780403715\n",
      "Epoch 100, Loss: 13.532218729640203\n",
      "Epoch 200, Loss: 6.476990020115173\n",
      "Epoch 300, Loss: 5.5488876202294515\n",
      "Epoch 400, Loss: 5.158870503618989\n",
      "Epoch 0, Loss: 323.88944281775343\n",
      "Epoch 100, Loss: 30.277675268112127\n",
      "Epoch 200, Loss: 29.802287482768325\n",
      "Epoch 300, Loss: 29.79403056569356\n",
      "Epoch 400, Loss: 207.23227462529394\n",
      "Epoch 0, Loss: 329.9398348230189\n",
      "Epoch 100, Loss: 30.55190706969279\n",
      "Epoch 200, Loss: 30.205671476163822\n",
      "Epoch 300, Loss: 30.195035206909825\n",
      "Epoch 400, Loss: 30.08343385432266\n",
      "Epoch 0, Loss: 326.30833269141635\n",
      "Epoch 100, Loss: 30.17375235005773\n",
      "Epoch 200, Loss: 29.83924078617929\n",
      "Epoch 300, Loss: 29.83898263738861\n",
      "Epoch 400, Loss: 29.83898243817039\n",
      "Mean MSE: 38.11, Std MSE: 27.24\n",
      "Mean R2 Score: 0.43, Std R2 Score: 0.37\n",
      "Mean MAE: 4.71, Std MAE: 2.15\n"
     ]
    }
   ],
   "source": [
    "from sklearn.model_selection import train_test_split\n",
    "from sklearn.preprocessing import StandardScaler\n",
    "from sklearn.metrics import mean_squared_error, r2_score, mean_absolute_error\n",
    "import numpy as np\n",
    "import pandas as pd\n",
    "import matplotlib.pyplot as plt\n",
    "\n",
    "# Load the Auto MPG dataset\n",
    "url = \"https://archive.ics.uci.edu/ml/machine-learning-databases/auto-mpg/auto-mpg.data\"\n",
    "column_names = [\"mpg\", \"cylinders\", \"displacement\", \"horsepower\", \"weight\", \"acceleration\", \"model_year\", \"origin\", \"car_name\"]\n",
    "auto_mpg = pd.read_csv(url, names=column_names, delim_whitespace=True, na_values=\"?\")\n",
    "\n",
    "# Remove rows with missing values\n",
    "auto_mpg = auto_mpg.dropna()\n",
    "\n",
    "# Extract features and target variable\n",
    "X_auto_mpg = auto_mpg.iloc[:, 1:-1].values  # Exclude mpg (target) and car_name (non-numeric)\n",
    "y_auto_mpg = auto_mpg[\"mpg\"].values\n",
    "\n",
    "# Define the parameters for cross-validation\n",
    "n_runs = 5\n",
    "test_size = 0.1\n",
    "random_state = 42\n",
    "\n",
    "# Initialize lists to store the performance metrics for each run\n",
    "mse_scores = []\n",
    "r2_scores = []\n",
    "mae_scores = []\n",
    "\n",
    "for run in range(n_runs):\n",
    "    # Shuffle and split the dataset into train and test sets\n",
    "    X_train, X_test, y_train, y_test = train_test_split(X_auto_mpg, y_auto_mpg, test_size=test_size, random_state=random_state + run)\n",
    "    \n",
    "    # Apply data normalization\n",
    "    scaler = StandardScaler()\n",
    "    X_train = scaler.fit_transform(X_train)\n",
    "    X_test = scaler.transform(X_test)\n",
    "\n",
    "    # Initialize and train the MLPRegressor\n",
    "    mlp_regressor = MLPRegressor(hidden_layer_sizes=(20, 10), lr=0.0001, epochs=500, random_state=random_state, activation='relu')\n",
    "    mlp_regressor.fit(X_train, y_train)\n",
    "\n",
    "    # Predict on the test data\n",
    "    y_test_pred = mlp_regressor.predict(X_test).flatten()\n",
    "\n",
    "    # Calculate and store the performance metrics\n",
    "    mse_scores.append(mean_squared_error(y_test, y_test_pred))\n",
    "    r2_scores.append(r2_score(y_test, y_test_pred))\n",
    "    mae_scores.append(mean_absolute_error(y_test, y_test_pred))\n",
    "\n",
    "# Calculate mean and standard deviation of the metrics\n",
    "mean_mse = np.mean(mse_scores)\n",
    "std_mse = np.std(mse_scores)\n",
    "\n",
    "mean_r2 = np.mean(r2_scores)\n",
    "std_r2 = np.std(r2_scores)\n",
    "\n",
    "mean_mae = np.mean(mae_scores)\n",
    "std_mae = np.std(mae_scores)\n",
    "\n",
    "print(f'Mean MSE: {mean_mse:.2f}, Std MSE: {std_mse:.2f}')\n",
    "print(f'Mean R2 Score: {mean_r2:.2f}, Std R2 Score: {std_r2:.2f}')\n",
    "print(f'Mean MAE: {mean_mae:.2f}, Std MAE: {std_mae:.2f}')"
   ]
  },
  {
   "cell_type": "markdown",
   "metadata": {},
   "source": [
    "### Task 7: Cluster the clustering dataset using K-Means clustering [10 points]\n",
    "\n",
    "Determine the optimal number of clusters using the elbow method, and plot the relevant curve."
   ]
  },
  {
   "cell_type": "code",
   "execution_count": null,
   "metadata": {},
   "outputs": [
    {
     "name": "stderr",
     "output_type": "stream",
     "text": [
      "/home/user/Documents/MLLab/ml-lab/src/models/k_means/clustering.py:70: RuntimeWarning: invalid value encountered in sqrt\n",
      "  return np.sqrt(C)\n"
     ]
    },
    {
     "data": {
      "image/png": "[encoded data removed]",
      "text/plain": [
       "<Figure size 1000x800 with 1 Axes>"
      ]
     },
     "metadata": {},
     "output_type": "display_data"
    }
   ],
   "source": [
    "from models.k_means.clustering import KMeans\n",
    "\n",
    "scaler = StandardScaler()\n",
    "X_wine_train_scaled = scaler.fit_transform(X_wine_train)\n",
    "X_wine_valid_scaled = scaler.transform(X_wine_valid)\n",
    "X_wine_test_scaled = scaler.transform(X_wine_test)\n",
    "\n",
    "# Determine the optimal number of clusters using the elbow method\n",
    "sse = []\n",
    "list_k = list(range(1, 11))\n",
    "\n",
    "for k in list_k:\n",
    "    kmeans = KMeans(n_clusters=k, max_iter=100, tol=1e-4, random_state=42)\n",
    "    kmeans.fit(X_wine_train_scaled)\n",
    "    \n",
    "    # Compute clusters and calculate the sum of squared errors\n",
    "    clusters = kmeans.compute_clusters(X_wine_train_scaled, kmeans.centroids_)\n",
    "    centroids = kmeans.centroids_\n",
    "    distances = np.min(kmeans.euclidean_distance(X_wine_train_scaled, centroids), axis=1)\n",
    "    sse.append(np.sum(distances**2))\n",
    "\n",
    "# Plot the elbow curve\n",
    "plt.figure(figsize=(10, 8))\n",
    "plt.plot(list_k, sse, '-o')\n",
    "plt.xlabel('Number of clusters (k)')\n",
    "plt.ylabel('Sum of Squared Errors (SSE)')\n",
    "plt.title('Elbow Method For Optimal k')\n",
    "plt.show()\n"
   ]
  },
  {
   "cell_type": "code",
   "execution_count": null,
   "metadata": {},
   "outputs": [],
   "source": [
    "# Optimal number of clusters (k) is 3"
   ]
  },
  {
   "cell_type": "markdown",
   "metadata": {},
   "source": [
    "### BONUS Task: Apply the CNN on the classification problem and report the relevant metrics [20 Points]"
   ]
  },
  {
   "cell_type": "code",
   "execution_count": null,
   "metadata": {},
   "outputs": [
    {
     "name": "stdout",
     "output_type": "stream",
     "text": [
      "Layer <models.DL.mlp.ConvLayer object at 0x7f22294fff40> output shape: (2, 2, 4)\n",
      "Layer <models.DL.mlp.PoolingLayer object at 0x7f21fa98fa60> output shape: (1, 1, 4)\n",
      "Layer <models.DL.mlp.ConvLayer object at 0x7f21fa98fc10> output shape: (1, 1, 8)\n",
      "Layer <models.DL.mlp.PoolingLayer object at 0x7f21fa98f460> output shape: (0, 0, 8)\n"
     ]
    },
    {
     "ename": "ValueError",
     "evalue": "shapes (5,32) and (0,3) not aligned: 32 (dim 1) != 0 (dim 0)",
     "output_type": "error",
     "traceback": [
      "\u001b[0;31m---------------------------------------------------------------------------\u001b[0m",
      "\u001b[0;31mValueError\u001b[0m                                Traceback (most recent call last)",
      "Cell \u001b[0;32mIn[16], line 87\u001b[0m\n\u001b[1;32m     85\u001b[0m \u001b[38;5;66;03m# Use the modified fit method\u001b[39;00m\n\u001b[1;32m     86\u001b[0m cnn\u001b[38;5;241m.\u001b[39mfit \u001b[38;5;241m=\u001b[39m fit_with_shape_logging\u001b[38;5;241m.\u001b[39m\u001b[38;5;21m__get__\u001b[39m(cnn, CNNClassifier)\n\u001b[0;32m---> 87\u001b[0m \u001b[43mcnn\u001b[49m\u001b[38;5;241;43m.\u001b[39;49m\u001b[43mfit\u001b[49m\u001b[43m(\u001b[49m\u001b[43mX_train\u001b[49m\u001b[43m,\u001b[49m\u001b[43m \u001b[49m\u001b[43my_train\u001b[49m\u001b[43m)\u001b[49m\n\u001b[1;32m     89\u001b[0m \u001b[38;5;66;03m# Predict on the test set\u001b[39;00m\n\u001b[1;32m     90\u001b[0m y_pred \u001b[38;5;241m=\u001b[39m cnn\u001b[38;5;241m.\u001b[39mpredict(X_test)\n",
      "Cell \u001b[0;32mIn[16], line 56\u001b[0m, in \u001b[0;36mfit_with_shape_logging\u001b[0;34m(self, X, y)\u001b[0m\n\u001b[1;32m     53\u001b[0m X_batch, y_batch \u001b[38;5;241m=\u001b[39m X[batch_idx], y[batch_idx]\n\u001b[1;32m     55\u001b[0m \u001b[38;5;66;03m# Forward pass\u001b[39;00m\n\u001b[0;32m---> 56\u001b[0m logits \u001b[38;5;241m=\u001b[39m \u001b[38;5;28;43mself\u001b[39;49m\u001b[38;5;241;43m.\u001b[39;49m\u001b[43m_forward\u001b[49m\u001b[43m(\u001b[49m\u001b[43mX_batch\u001b[49m\u001b[43m)\u001b[49m\n\u001b[1;32m     57\u001b[0m \u001b[38;5;28mprint\u001b[39m(\u001b[38;5;124mf\u001b[39m\u001b[38;5;124m'\u001b[39m\u001b[38;5;124mForward pass output shape: \u001b[39m\u001b[38;5;132;01m{\u001b[39;00mlogits\u001b[38;5;241m.\u001b[39mshape\u001b[38;5;132;01m}\u001b[39;00m\u001b[38;5;124m'\u001b[39m)\n\u001b[1;32m     59\u001b[0m \u001b[38;5;66;03m# Calculate loss and its gradient\u001b[39;00m\n",
      "File \u001b[0;32m~/Documents/MLLab/ml-lab/src/models/DL/mlp.py:384\u001b[0m, in \u001b[0;36mCNNClassifier._forward\u001b[0;34m(self, X)\u001b[0m\n\u001b[1;32m    382\u001b[0m     X \u001b[38;5;241m=\u001b[39m layer(X)\n\u001b[1;32m    383\u001b[0m X \u001b[38;5;241m=\u001b[39m np\u001b[38;5;241m.\u001b[39mreshape(X, (X\u001b[38;5;241m.\u001b[39mshape[\u001b[38;5;241m0\u001b[39m], \u001b[38;5;241m-\u001b[39m\u001b[38;5;241m1\u001b[39m))\n\u001b[0;32m--> 384\u001b[0m \u001b[38;5;28;01mreturn\u001b[39;00m \u001b[38;5;28mself\u001b[39m\u001b[38;5;241m.\u001b[39msoftmax_layer_(\u001b[38;5;28;43mself\u001b[39;49m\u001b[38;5;241;43m.\u001b[39;49m\u001b[43mout_layer_\u001b[49m\u001b[43m(\u001b[49m\u001b[43mX\u001b[49m\u001b[43m)\u001b[49m)\n",
      "File \u001b[0;32m~/Documents/MLLab/ml-lab/src/models/DL/mlp.py:54\u001b[0m, in \u001b[0;36mModularLinearLayer.__call__\u001b[0;34m(self, X)\u001b[0m\n\u001b[1;32m     39\u001b[0m \u001b[38;5;250m\u001b[39m\u001b[38;5;124;03m\"\"\"\u001b[39;00m\n\u001b[1;32m     40\u001b[0m \u001b[38;5;124;03mForward pass of the layer\u001b[39;00m\n\u001b[1;32m     41\u001b[0m \u001b[38;5;124;03mParameters\u001b[39;00m\n\u001b[0;32m   (...)\u001b[0m\n\u001b[1;32m     50\u001b[0m \n\u001b[1;32m     51\u001b[0m \u001b[38;5;124;03m\"\"\"\u001b[39;00m\n\u001b[1;32m     52\u001b[0m \u001b[38;5;28mself\u001b[39m\u001b[38;5;241m.\u001b[39m_prev_input \u001b[38;5;241m=\u001b[39m X\n\u001b[0;32m---> 54\u001b[0m \u001b[38;5;28;01mreturn\u001b[39;00m \u001b[43mX\u001b[49m\u001b[38;5;241;43m.\u001b[39;49m\u001b[43mdot\u001b[49m\u001b[43m(\u001b[49m\u001b[38;5;28;43mself\u001b[39;49m\u001b[38;5;241;43m.\u001b[39;49m\u001b[43mweight_\u001b[49m\u001b[43m)\u001b[49m \u001b[38;5;241m+\u001b[39m \u001b[38;5;28mself\u001b[39m\u001b[38;5;241m.\u001b[39mbias_\n",
      "\u001b[0;31mValueError\u001b[0m: shapes (5,32) and (0,3) not aligned: 32 (dim 1) != 0 (dim 0)"
     ]
    }
   ],
   "source": [
    "from models.DL.mlp import CNNClassifier, ConvLayer, ReLULayer, PoolingLayer,ModularLinearLayer,SoftmaxLayer\n",
    "# Load the Iris dataset\n",
    "# Load the Iris dataset\n",
    "# Load the Iris dataset\n",
    "# Load the Iris dataset\n",
    "data = load_iris()\n",
    "X, y = data['data'], data['target']\n",
    "\n",
    "# Standardize features\n",
    "scaler = StandardScaler()\n",
    "X = scaler.fit_transform(X)\n",
    "\n",
    "# Reshape to (batch_size, 2, 2, 1)\n",
    "X = X.reshape(-1, 2, 2, 1)\n",
    "\n",
    "# Split the data into train and test sets\n",
    "X_train, X_test, y_train, y_test = train_test_split(X, y, test_size=0.2, random_state=42, shuffle=True)\n",
    "\n",
    "# Initialize the CNN layers\n",
    "rng = np.random.RandomState(42)\n",
    "layers = [\n",
    "    ConvLayer(1, 4, (2, 2), rng=rng),\n",
    "    ReLULayer(),\n",
    "    PoolingLayer((2, 2), stride=(1, 1)),  # Pooling with (1, 1) to keep the shape since input is small\n",
    "    ConvLayer(4, 8, (2, 2), rng=rng),\n",
    "    ReLULayer(),\n",
    "    PoolingLayer((2, 2), stride=(1, 1))\n",
    "]\n",
    "\n",
    "# Initialize the CNNClassifier\n",
    "cnn = CNNClassifier(layers, random_state=42, input_shape=(2, 2, 1), epochs=100, lr=0.01, batch_size=5)\n",
    "\n",
    "\n",
    "cnn.fit(X_train, y_train)\n",
    "\n",
    "# Predict on the test set\n",
    "y_pred = cnn.predict(X_test)\n",
    "\n",
    "# Calculate and print the accuracy\n",
    "accuracy = accuracy_score(y_test, y_pred)\n",
    "print(f'Test accuracy: {accuracy * 100:.2f}%')"
   ]
  }
 ],
 "metadata": {
  "kernelspec": {
   "display_name": "Python 3 (ipykernel)",
   "language": "python",
   "name": "python3"
  },
  "language_info": {
   "codemirror_mode": {
    "name": "ipython",
    "version": 3
   },
   "file_extension": ".py",
   "mimetype": "text/x-python",
   "name": "python",
   "nbconvert_exporter": "python",
   "pygments_lexer": "ipython3",
   "version": "3.8.10"
  }
 },
 "nbformat": 4,
 "nbformat_minor": 1
}
